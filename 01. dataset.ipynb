{
 "cells": [
  {
   "cell_type": "markdown",
   "id": "2bf3d5a3",
   "metadata": {},
   "source": [
    "## 한국음식 데이터 & 한식진흥원 음식 DB 병합"
   ]
  },
  {
   "cell_type": "code",
   "execution_count": 1,
   "id": "9f65d9d5",
   "metadata": {},
   "outputs": [],
   "source": [
    "import pandas as pd"
   ]
  },
  {
   "cell_type": "code",
   "execution_count": 18,
   "id": "a85cc669",
   "metadata": {},
   "outputs": [],
   "source": [
    "data1_raw = pd.read_csv('./dataset/한국음식이미지 - merge.csv')\n",
    "data1_raw = data1_raw[['대분류','소분류','메뉴명']]\n",
    "data2_raw = pd.read_csv('./dataset/kfpi_data.csv')"
   ]
  },
  {
   "cell_type": "code",
   "execution_count": 19,
   "id": "78637fb3",
   "metadata": {},
   "outputs": [
    {
     "data": {
      "text/html": [
       "<div>\n",
       "<style scoped>\n",
       "    .dataframe tbody tr th:only-of-type {\n",
       "        vertical-align: middle;\n",
       "    }\n",
       "\n",
       "    .dataframe tbody tr th {\n",
       "        vertical-align: top;\n",
       "    }\n",
       "\n",
       "    .dataframe thead th {\n",
       "        text-align: right;\n",
       "    }\n",
       "</style>\n",
       "<table border=\"1\" class=\"dataframe\">\n",
       "  <thead>\n",
       "    <tr style=\"text-align: right;\">\n",
       "      <th></th>\n",
       "      <th>대분류</th>\n",
       "      <th>소분류</th>\n",
       "      <th>메뉴명</th>\n",
       "    </tr>\n",
       "  </thead>\n",
       "  <tbody>\n",
       "    <tr>\n",
       "      <th>0</th>\n",
       "      <td>구이</td>\n",
       "      <td>갈비구이</td>\n",
       "      <td>소갈비구이</td>\n",
       "    </tr>\n",
       "    <tr>\n",
       "      <th>1</th>\n",
       "      <td>구이</td>\n",
       "      <td>갈치구이</td>\n",
       "      <td>갈치구이</td>\n",
       "    </tr>\n",
       "    <tr>\n",
       "      <th>2</th>\n",
       "      <td>구이</td>\n",
       "      <td>고등어구이</td>\n",
       "      <td>고등어구이</td>\n",
       "    </tr>\n",
       "    <tr>\n",
       "      <th>3</th>\n",
       "      <td>구이</td>\n",
       "      <td>곱창구이</td>\n",
       "      <td>곱창구이</td>\n",
       "    </tr>\n",
       "    <tr>\n",
       "      <th>4</th>\n",
       "      <td>구이</td>\n",
       "      <td>닭갈비</td>\n",
       "      <td>닭갈비</td>\n",
       "    </tr>\n",
       "  </tbody>\n",
       "</table>\n",
       "</div>"
      ],
      "text/plain": [
       "  대분류    소분류    메뉴명\n",
       "0  구이   갈비구이  소갈비구이\n",
       "1  구이   갈치구이   갈치구이\n",
       "2  구이  고등어구이  고등어구이\n",
       "3  구이   곱창구이   곱창구이\n",
       "4  구이    닭갈비    닭갈비"
      ]
     },
     "execution_count": 19,
     "metadata": {},
     "output_type": "execute_result"
    }
   ],
   "source": [
    "data1_raw.head()"
   ]
  },
  {
   "cell_type": "code",
   "execution_count": 20,
   "id": "de34fdd2",
   "metadata": {},
   "outputs": [
    {
     "data": {
      "text/html": [
       "<div>\n",
       "<style scoped>\n",
       "    .dataframe tbody tr th:only-of-type {\n",
       "        vertical-align: middle;\n",
       "    }\n",
       "\n",
       "    .dataframe tbody tr th {\n",
       "        vertical-align: top;\n",
       "    }\n",
       "\n",
       "    .dataframe thead th {\n",
       "        text-align: right;\n",
       "    }\n",
       "</style>\n",
       "<table border=\"1\" class=\"dataframe\">\n",
       "  <thead>\n",
       "    <tr style=\"text-align: right;\">\n",
       "      <th></th>\n",
       "      <th>코드</th>\n",
       "      <th>메뉴명</th>\n",
       "      <th>분량</th>\n",
       "      <th>재료</th>\n",
       "    </tr>\n",
       "  </thead>\n",
       "  <tbody>\n",
       "    <tr>\n",
       "      <th>0</th>\n",
       "      <td>56756</td>\n",
       "      <td>흰밥</td>\n",
       "      <td>4인분</td>\n",
       "      <td>멥쌀 2컵(450g)  물 2½컵(625ml)</td>\n",
       "    </tr>\n",
       "    <tr>\n",
       "      <th>1</th>\n",
       "      <td>56767</td>\n",
       "      <td>오곡밥</td>\n",
       "      <td>4인분</td>\n",
       "      <td>멥쌀 2컵(450g)  찹쌀 1컵(220g)  팥 ¼컵  검은콩 ½컵  수수 ½컵 ...</td>\n",
       "    </tr>\n",
       "    <tr>\n",
       "      <th>2</th>\n",
       "      <td>56791</td>\n",
       "      <td>잡곡밥</td>\n",
       "      <td>4인분</td>\n",
       "      <td>멥쌀 1컵(220g)  현미 1컵  팥 60g  차조 60g  물 3컵</td>\n",
       "    </tr>\n",
       "    <tr>\n",
       "      <th>3</th>\n",
       "      <td>56792</td>\n",
       "      <td>보리밥</td>\n",
       "      <td>4인분</td>\n",
       "      <td>보리 2컵(450g)  멥쌀 ½컵(110g)  물 5컵</td>\n",
       "    </tr>\n",
       "    <tr>\n",
       "      <th>4</th>\n",
       "      <td>56794</td>\n",
       "      <td>곤드레나물밥</td>\n",
       "      <td>4인분</td>\n",
       "      <td>멥쌀 2컵(450g)  찹쌀 ½컵(110g)  마른 곤드레나물 60g(불린 후 30...</td>\n",
       "    </tr>\n",
       "  </tbody>\n",
       "</table>\n",
       "</div>"
      ],
      "text/plain": [
       "      코드     메뉴명   분량                                                 재료\n",
       "0  56756      흰밥  4인분                          멥쌀 2컵(450g)  물 2½컵(625ml)\n",
       "1  56767     오곡밥  4인분  멥쌀 2컵(450g)  찹쌀 1컵(220g)  팥 ¼컵  검은콩 ½컵  수수 ½컵 ...\n",
       "2  56791     잡곡밥  4인분            멥쌀 1컵(220g)  현미 1컵  팥 60g  차조 60g  물 3컵\n",
       "3  56792     보리밥  4인분                     보리 2컵(450g)  멥쌀 ½컵(110g)  물 5컵\n",
       "4  56794  곤드레나물밥  4인분  멥쌀 2컵(450g)  찹쌀 ½컵(110g)  마른 곤드레나물 60g(불린 후 30..."
      ]
     },
     "execution_count": 20,
     "metadata": {},
     "output_type": "execute_result"
    }
   ],
   "source": [
    "data2_raw.head()"
   ]
  },
  {
   "cell_type": "code",
   "execution_count": 21,
   "id": "aad3a0ef",
   "metadata": {},
   "outputs": [
    {
     "data": {
      "text/html": [
       "<div>\n",
       "<style scoped>\n",
       "    .dataframe tbody tr th:only-of-type {\n",
       "        vertical-align: middle;\n",
       "    }\n",
       "\n",
       "    .dataframe tbody tr th {\n",
       "        vertical-align: top;\n",
       "    }\n",
       "\n",
       "    .dataframe thead th {\n",
       "        text-align: right;\n",
       "    }\n",
       "</style>\n",
       "<table border=\"1\" class=\"dataframe\">\n",
       "  <thead>\n",
       "    <tr style=\"text-align: right;\">\n",
       "      <th></th>\n",
       "      <th>대분류</th>\n",
       "      <th>소분류</th>\n",
       "      <th>메뉴명</th>\n",
       "      <th>코드</th>\n",
       "      <th>분량</th>\n",
       "      <th>재료</th>\n",
       "    </tr>\n",
       "  </thead>\n",
       "  <tbody>\n",
       "    <tr>\n",
       "      <th>0</th>\n",
       "      <td>구이</td>\n",
       "      <td>갈비구이</td>\n",
       "      <td>소갈비구이</td>\n",
       "      <td>56920.0</td>\n",
       "      <td>4인분</td>\n",
       "      <td>갈비(두께 1cm 정도로 뼈째 두툼하게 절단) 1kg 간장 5큰술  설탕 2큰술  ...</td>\n",
       "    </tr>\n",
       "    <tr>\n",
       "      <th>2</th>\n",
       "      <td>구이</td>\n",
       "      <td>고등어구이</td>\n",
       "      <td>고등어구이</td>\n",
       "      <td>56908.0</td>\n",
       "      <td>4인분</td>\n",
       "      <td>고등어 2마리(손질 후 500g)  소금 2큰술  식용유 2큰술</td>\n",
       "    </tr>\n",
       "    <tr>\n",
       "      <th>3</th>\n",
       "      <td>구이</td>\n",
       "      <td>곱창구이</td>\n",
       "      <td>곱창구이</td>\n",
       "      <td>56909.0</td>\n",
       "      <td>4인분</td>\n",
       "      <td>돼지(또는 소) 곱창 1kg  밀가루 1컵  굵은소금 1큰술  식용유 적당량  감자...</td>\n",
       "    </tr>\n",
       "    <tr>\n",
       "      <th>4</th>\n",
       "      <td>구이</td>\n",
       "      <td>닭갈비</td>\n",
       "      <td>닭갈비</td>\n",
       "      <td>56916.0</td>\n",
       "      <td>4인분</td>\n",
       "      <td>닭다리 살 480g  떡볶이 떡 120g  고구마 90g  양배추 잎 4장  당근 ...</td>\n",
       "    </tr>\n",
       "    <tr>\n",
       "      <th>5</th>\n",
       "      <td>구이</td>\n",
       "      <td>더덕구이</td>\n",
       "      <td>더덕구이</td>\n",
       "      <td>56926.0</td>\n",
       "      <td>4인분</td>\n",
       "      <td>더덕 480g  통깨 1큰술  식용유 ½컵 간장 1큰술  참기름 2큰술 간장 1큰술...</td>\n",
       "    </tr>\n",
       "  </tbody>\n",
       "</table>\n",
       "</div>"
      ],
      "text/plain": [
       "  대분류    소분류    메뉴명       코드   분량  \\\n",
       "0  구이   갈비구이  소갈비구이  56920.0  4인분   \n",
       "2  구이  고등어구이  고등어구이  56908.0  4인분   \n",
       "3  구이   곱창구이   곱창구이  56909.0  4인분   \n",
       "4  구이    닭갈비    닭갈비  56916.0  4인분   \n",
       "5  구이   더덕구이   더덕구이  56926.0  4인분   \n",
       "\n",
       "                                                  재료  \n",
       "0  갈비(두께 1cm 정도로 뼈째 두툼하게 절단) 1kg 간장 5큰술  설탕 2큰술  ...  \n",
       "2                고등어 2마리(손질 후 500g)  소금 2큰술  식용유 2큰술  \n",
       "3  돼지(또는 소) 곱창 1kg  밀가루 1컵  굵은소금 1큰술  식용유 적당량  감자...  \n",
       "4  닭다리 살 480g  떡볶이 떡 120g  고구마 90g  양배추 잎 4장  당근 ...  \n",
       "5  더덕 480g  통깨 1큰술  식용유 ½컵 간장 1큰술  참기름 2큰술 간장 1큰술...  "
      ]
     },
     "execution_count": 21,
     "metadata": {},
     "output_type": "execute_result"
    }
   ],
   "source": [
    "df = data1_raw.merge(data2_raw,on='메뉴명',how='left')\n",
    "df = df.dropna()\n",
    "df.head()"
   ]
  },
  {
   "cell_type": "code",
   "execution_count": 22,
   "id": "a11ddd6a",
   "metadata": {},
   "outputs": [
    {
     "name": "stdout",
     "output_type": "stream",
     "text": [
      "<class 'pandas.core.frame.DataFrame'>\n",
      "Index: 92 entries, 0 to 147\n",
      "Data columns (total 6 columns):\n",
      " #   Column  Non-Null Count  Dtype  \n",
      "---  ------  --------------  -----  \n",
      " 0   대분류     92 non-null     object \n",
      " 1   소분류     92 non-null     object \n",
      " 2   메뉴명     92 non-null     object \n",
      " 3   코드      92 non-null     float64\n",
      " 4   분량      92 non-null     object \n",
      " 5   재료      92 non-null     object \n",
      "dtypes: float64(1), object(5)\n",
      "memory usage: 5.0+ KB\n"
     ]
    }
   ],
   "source": [
    "df.info()"
   ]
  },
  {
   "cell_type": "code",
   "execution_count": 23,
   "id": "5c97b059",
   "metadata": {},
   "outputs": [],
   "source": [
    "df.to_csv('./dataset/추천용데이터셋.csv', index=False)"
   ]
  },
  {
   "cell_type": "code",
   "execution_count": null,
   "id": "0ec222a5",
   "metadata": {},
   "outputs": [],
   "source": []
  }
 ],
 "metadata": {
  "kernelspec": {
   "display_name": "kfood_project",
   "language": "python",
   "name": "python3"
  },
  "language_info": {
   "codemirror_mode": {
    "name": "ipython",
    "version": 3
   },
   "file_extension": ".py",
   "mimetype": "text/x-python",
   "name": "python",
   "nbconvert_exporter": "python",
   "pygments_lexer": "ipython3",
   "version": "3.11.13"
  }
 },
 "nbformat": 4,
 "nbformat_minor": 5
}
