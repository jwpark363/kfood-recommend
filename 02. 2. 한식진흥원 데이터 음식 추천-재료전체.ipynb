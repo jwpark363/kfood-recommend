{
 "cells": [
  {
   "cell_type": "markdown",
   "id": "fdf3c478",
   "metadata": {},
   "source": [
    "## 한식진흥원 레시피 데이터를 이용한 추천 시스템\n",
    "- 재료 데이터 전체를 원본 그대로 분석 진행"
   ]
  },
  {
   "cell_type": "code",
   "execution_count": 1,
   "id": "6ae41928",
   "metadata": {},
   "outputs": [],
   "source": [
    "import pandas as pd\n",
    "from sklearn.feature_extraction.text import CountVectorizer, TfidfVectorizer\n",
    "from sklearn.metrics.pairwise import cosine_similarity\n",
    "import numpy as np\n",
    "from lib.recommend import make_similarity_vector"
   ]
  },
  {
   "cell_type": "code",
   "execution_count": 2,
   "id": "282d0bcc",
   "metadata": {},
   "outputs": [
    {
     "data": {
      "text/html": [
       "<div>\n",
       "<style scoped>\n",
       "    .dataframe tbody tr th:only-of-type {\n",
       "        vertical-align: middle;\n",
       "    }\n",
       "\n",
       "    .dataframe tbody tr th {\n",
       "        vertical-align: top;\n",
       "    }\n",
       "\n",
       "    .dataframe thead th {\n",
       "        text-align: right;\n",
       "    }\n",
       "</style>\n",
       "<table border=\"1\" class=\"dataframe\">\n",
       "  <thead>\n",
       "    <tr style=\"text-align: right;\">\n",
       "      <th></th>\n",
       "      <th>대분류</th>\n",
       "      <th>소분류</th>\n",
       "      <th>메뉴명</th>\n",
       "      <th>코드</th>\n",
       "      <th>분량</th>\n",
       "      <th>재료</th>\n",
       "    </tr>\n",
       "  </thead>\n",
       "  <tbody>\n",
       "    <tr>\n",
       "      <th>0</th>\n",
       "      <td>구이</td>\n",
       "      <td>갈비구이</td>\n",
       "      <td>소갈비구이</td>\n",
       "      <td>56920</td>\n",
       "      <td>4인분</td>\n",
       "      <td>갈비(두께 1cm 정도로 뼈째 두툼하게 절단) 1kg 간장 5큰술  설탕 2큰술  ...</td>\n",
       "    </tr>\n",
       "    <tr>\n",
       "      <th>1</th>\n",
       "      <td>구이</td>\n",
       "      <td>고등어구이</td>\n",
       "      <td>고등어구이</td>\n",
       "      <td>56908</td>\n",
       "      <td>4인분</td>\n",
       "      <td>고등어 2마리(손질 후 500g)  소금 2큰술  식용유 2큰술</td>\n",
       "    </tr>\n",
       "    <tr>\n",
       "      <th>2</th>\n",
       "      <td>구이</td>\n",
       "      <td>곱창구이</td>\n",
       "      <td>곱창구이</td>\n",
       "      <td>56909</td>\n",
       "      <td>4인분</td>\n",
       "      <td>돼지(또는 소) 곱창 1kg  밀가루 1컵  굵은소금 1큰술  식용유 적당량  감자...</td>\n",
       "    </tr>\n",
       "    <tr>\n",
       "      <th>3</th>\n",
       "      <td>구이</td>\n",
       "      <td>닭갈비</td>\n",
       "      <td>닭갈비</td>\n",
       "      <td>56916</td>\n",
       "      <td>4인분</td>\n",
       "      <td>닭다리 살 480g  떡볶이 떡 120g  고구마 90g  양배추 잎 4장  당근 ...</td>\n",
       "    </tr>\n",
       "    <tr>\n",
       "      <th>4</th>\n",
       "      <td>구이</td>\n",
       "      <td>더덕구이</td>\n",
       "      <td>더덕구이</td>\n",
       "      <td>56926</td>\n",
       "      <td>4인분</td>\n",
       "      <td>더덕 480g  통깨 1큰술  식용유 ½컵 간장 1큰술  참기름 2큰술 간장 1큰술...</td>\n",
       "    </tr>\n",
       "  </tbody>\n",
       "</table>\n",
       "</div>"
      ],
      "text/plain": [
       "  대분류    소분류    메뉴명     코드   분량  \\\n",
       "0  구이   갈비구이  소갈비구이  56920  4인분   \n",
       "1  구이  고등어구이  고등어구이  56908  4인분   \n",
       "2  구이   곱창구이   곱창구이  56909  4인분   \n",
       "3  구이    닭갈비    닭갈비  56916  4인분   \n",
       "4  구이   더덕구이   더덕구이  56926  4인분   \n",
       "\n",
       "                                                  재료  \n",
       "0  갈비(두께 1cm 정도로 뼈째 두툼하게 절단) 1kg 간장 5큰술  설탕 2큰술  ...  \n",
       "1                고등어 2마리(손질 후 500g)  소금 2큰술  식용유 2큰술  \n",
       "2  돼지(또는 소) 곱창 1kg  밀가루 1컵  굵은소금 1큰술  식용유 적당량  감자...  \n",
       "3  닭다리 살 480g  떡볶이 떡 120g  고구마 90g  양배추 잎 4장  당근 ...  \n",
       "4  더덕 480g  통깨 1큰술  식용유 ½컵 간장 1큰술  참기름 2큰술 간장 1큰술...  "
      ]
     },
     "execution_count": 2,
     "metadata": {},
     "output_type": "execute_result"
    }
   ],
   "source": [
    "## 데이터셋\n",
    "data_raw = pd.read_csv('./dataset/추천용데이터셋.csv')\n",
    "data = data_raw.copy()\n",
    "## 재료 리스트 형태소 분석\n",
    "data['코드'] = data['코드'].astype('int32')\n",
    "data.head()"
   ]
  },
  {
   "cell_type": "code",
   "execution_count": 3,
   "id": "76a88051",
   "metadata": {},
   "outputs": [
    {
     "data": {
      "text/html": [
       "<div>\n",
       "<style scoped>\n",
       "    .dataframe tbody tr th:only-of-type {\n",
       "        vertical-align: middle;\n",
       "    }\n",
       "\n",
       "    .dataframe tbody tr th {\n",
       "        vertical-align: top;\n",
       "    }\n",
       "\n",
       "    .dataframe thead th {\n",
       "        text-align: right;\n",
       "    }\n",
       "</style>\n",
       "<table border=\"1\" class=\"dataframe\">\n",
       "  <thead>\n",
       "    <tr style=\"text-align: right;\">\n",
       "      <th></th>\n",
       "      <th>코드</th>\n",
       "      <th>재료</th>\n",
       "    </tr>\n",
       "  </thead>\n",
       "  <tbody>\n",
       "    <tr>\n",
       "      <th>0</th>\n",
       "      <td>56920</td>\n",
       "      <td>갈비(두께 1cm 정도로 뼈째 두툼하게 절단) 1kg 간장 5큰술  설탕 2큰술  ...</td>\n",
       "    </tr>\n",
       "    <tr>\n",
       "      <th>1</th>\n",
       "      <td>56908</td>\n",
       "      <td>고등어 2마리(손질 후 500g)  소금 2큰술  식용유 2큰술</td>\n",
       "    </tr>\n",
       "    <tr>\n",
       "      <th>2</th>\n",
       "      <td>56909</td>\n",
       "      <td>돼지(또는 소) 곱창 1kg  밀가루 1컵  굵은소금 1큰술  식용유 적당량  감자...</td>\n",
       "    </tr>\n",
       "    <tr>\n",
       "      <th>3</th>\n",
       "      <td>56916</td>\n",
       "      <td>닭다리 살 480g  떡볶이 떡 120g  고구마 90g  양배추 잎 4장  당근 ...</td>\n",
       "    </tr>\n",
       "    <tr>\n",
       "      <th>4</th>\n",
       "      <td>56926</td>\n",
       "      <td>더덕 480g  통깨 1큰술  식용유 ½컵 간장 1큰술  참기름 2큰술 간장 1큰술...</td>\n",
       "    </tr>\n",
       "  </tbody>\n",
       "</table>\n",
       "</div>"
      ],
      "text/plain": [
       "      코드                                                 재료\n",
       "0  56920  갈비(두께 1cm 정도로 뼈째 두툼하게 절단) 1kg 간장 5큰술  설탕 2큰술  ...\n",
       "1  56908                고등어 2마리(손질 후 500g)  소금 2큰술  식용유 2큰술\n",
       "2  56909  돼지(또는 소) 곱창 1kg  밀가루 1컵  굵은소금 1큰술  식용유 적당량  감자...\n",
       "3  56916  닭다리 살 480g  떡볶이 떡 120g  고구마 90g  양배추 잎 4장  당근 ...\n",
       "4  56926  더덕 480g  통깨 1큰술  식용유 ½컵 간장 1큰술  참기름 2큰술 간장 1큰술..."
      ]
     },
     "execution_count": 3,
     "metadata": {},
     "output_type": "execute_result"
    }
   ],
   "source": [
    "## 벡터화 대상 데이터 구성\n",
    "target = data[['코드']].astype(str)\n",
    "target['재료'] = data['재료']\n",
    "target.head()"
   ]
  },
  {
   "cell_type": "code",
   "execution_count": 9,
   "id": "b1a3c0a1",
   "metadata": {},
   "outputs": [
    {
     "data": {
      "text/plain": [
       "array([[1.        , 0.02177724, 0.07731006, ..., 0.06091432, 0.05638517,\n",
       "        0.00889614],\n",
       "       [0.02177724, 1.        , 0.02514967, ..., 0.03576061, 0.01879395,\n",
       "        0.        ],\n",
       "       [0.07731006, 0.02514967, 1.        , ..., 0.36815071, 0.05552809,\n",
       "        0.09495309],\n",
       "       ...,\n",
       "       [0.06091432, 0.03576061, 0.36815071, ..., 1.        , 0.07840429,\n",
       "        0.09789094],\n",
       "       [0.05638517, 0.01879395, 0.05552809, ..., 0.07840429, 1.        ,\n",
       "        0.19684931],\n",
       "       [0.00889614, 0.        , 0.09495309, ..., 0.09789094, 0.19684931,\n",
       "        1.        ]], shape=(92, 92))"
      ]
     },
     "execution_count": 9,
     "metadata": {},
     "output_type": "execute_result"
    }
   ],
   "source": [
    "similarity, features = make_similarity_vector(target['재료'].tolist(),vector_type=1)\n",
    "similarity"
   ]
  },
  {
   "cell_type": "code",
   "execution_count": 17,
   "id": "20f164fc",
   "metadata": {},
   "outputs": [
    {
     "data": {
      "text/html": [
       "<div>\n",
       "<style scoped>\n",
       "    .dataframe tbody tr th:only-of-type {\n",
       "        vertical-align: middle;\n",
       "    }\n",
       "\n",
       "    .dataframe tbody tr th {\n",
       "        vertical-align: top;\n",
       "    }\n",
       "\n",
       "    .dataframe thead th {\n",
       "        text-align: right;\n",
       "    }\n",
       "</style>\n",
       "<table border=\"1\" class=\"dataframe\">\n",
       "  <thead>\n",
       "    <tr style=\"text-align: right;\">\n",
       "      <th></th>\n",
       "      <th>대분류</th>\n",
       "      <th>소분류</th>\n",
       "      <th>메뉴명</th>\n",
       "      <th>코드</th>\n",
       "      <th>분량</th>\n",
       "      <th>재료</th>\n",
       "    </tr>\n",
       "  </thead>\n",
       "  <tbody>\n",
       "    <tr>\n",
       "      <th>6</th>\n",
       "      <td>구이</td>\n",
       "      <td>불고기</td>\n",
       "      <td>불고기</td>\n",
       "      <td>56912</td>\n",
       "      <td>4인분</td>\n",
       "      <td>소고기(등심) 500g  양파 1개(200g) 표고버섯(또는 느타리버섯) 3개(90...</td>\n",
       "    </tr>\n",
       "    <tr>\n",
       "      <th>0</th>\n",
       "      <td>구이</td>\n",
       "      <td>갈비구이</td>\n",
       "      <td>소갈비구이</td>\n",
       "      <td>56920</td>\n",
       "      <td>4인분</td>\n",
       "      <td>갈비(두께 1cm 정도로 뼈째 두툼하게 절단) 1kg 간장 5큰술  설탕 2큰술  ...</td>\n",
       "    </tr>\n",
       "    <tr>\n",
       "      <th>73</th>\n",
       "      <td>찌개</td>\n",
       "      <td>된장찌개</td>\n",
       "      <td>된장찌개</td>\n",
       "      <td>56871</td>\n",
       "      <td>4인분</td>\n",
       "      <td>소고기(등심) 100g  두부 1모(300g)  감자 200g  표고버섯(또는 양송...</td>\n",
       "    </tr>\n",
       "  </tbody>\n",
       "</table>\n",
       "</div>"
      ],
      "text/plain": [
       "   대분류   소분류    메뉴명     코드   분량  \\\n",
       "6   구이   불고기    불고기  56912  4인분   \n",
       "0   구이  갈비구이  소갈비구이  56920  4인분   \n",
       "73  찌개  된장찌개   된장찌개  56871  4인분   \n",
       "\n",
       "                                                   재료  \n",
       "6   소고기(등심) 500g  양파 1개(200g) 표고버섯(또는 느타리버섯) 3개(90...  \n",
       "0   갈비(두께 1cm 정도로 뼈째 두툼하게 절단) 1kg 간장 5큰술  설탕 2큰술  ...  \n",
       "73  소고기(등심) 100g  두부 1모(300g)  감자 200g  표고버섯(또는 양송...  "
      ]
     },
     "execution_count": 17,
     "metadata": {},
     "output_type": "execute_result"
    }
   ],
   "source": [
    "idx = 6\n",
    "data.iloc[np.argsort(similarity[idx])[::-1][:3]]"
   ]
  },
  {
   "cell_type": "code",
   "execution_count": null,
   "id": "4dab13a9",
   "metadata": {},
   "outputs": [],
   "source": []
  }
 ],
 "metadata": {
  "kernelspec": {
   "display_name": "kfood_project",
   "language": "python",
   "name": "python3"
  },
  "language_info": {
   "codemirror_mode": {
    "name": "ipython",
    "version": 3
   },
   "file_extension": ".py",
   "mimetype": "text/x-python",
   "name": "python",
   "nbconvert_exporter": "python",
   "pygments_lexer": "ipython3",
   "version": "3.11.13"
  }
 },
 "nbformat": 4,
 "nbformat_minor": 5
}
