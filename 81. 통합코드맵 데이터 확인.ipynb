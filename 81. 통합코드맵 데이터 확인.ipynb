{
 "cells": [
  {
   "cell_type": "markdown",
   "id": "c18684cc",
   "metadata": {},
   "source": [
    "## 최종 작성한 코드맵 데이터 체크\n",
    "- 농촌진흥청, 한식진흥원, 분류, 추천데이터"
   ]
  },
  {
   "cell_type": "code",
   "execution_count": 2,
   "id": "a9426db2",
   "metadata": {},
   "outputs": [],
   "source": [
    "import pandas as pd\n",
    "import json"
   ]
  },
  {
   "cell_type": "code",
   "execution_count": 5,
   "id": "250d4e37",
   "metadata": {},
   "outputs": [
    {
     "data": {
      "text/plain": [
       "{'code': 'D082010',\n",
       " 'name': '소갈비구이',\n",
       " 'kfood_code': '56920',\n",
       " 'kfood_name': '소갈비구이',\n",
       " 'image_type': '구이',\n",
       " 'image_name': '갈비구이',\n",
       " 'similarity': ['D072007', 'D072006', 'D072010', 'D082023', 'D072011']}"
      ]
     },
     "execution_count": 5,
     "metadata": {},
     "output_type": "execute_result"
    }
   ],
   "source": [
    "with open('./db/json/food_code_map.json','r') as f:\n",
    "    map = json.load(f)\n",
    "map[0]"
   ]
  },
  {
   "cell_type": "code",
   "execution_count": 6,
   "id": "9cfa2117",
   "metadata": {},
   "outputs": [
    {
     "data": {
      "text/html": [
       "<div>\n",
       "<style scoped>\n",
       "    .dataframe tbody tr th:only-of-type {\n",
       "        vertical-align: middle;\n",
       "    }\n",
       "\n",
       "    .dataframe tbody tr th {\n",
       "        vertical-align: top;\n",
       "    }\n",
       "\n",
       "    .dataframe thead th {\n",
       "        text-align: right;\n",
       "    }\n",
       "</style>\n",
       "<table border=\"1\" class=\"dataframe\">\n",
       "  <thead>\n",
       "    <tr style=\"text-align: right;\">\n",
       "      <th></th>\n",
       "      <th>code</th>\n",
       "      <th>name</th>\n",
       "      <th>kfood_code</th>\n",
       "      <th>kfood_name</th>\n",
       "      <th>image_type</th>\n",
       "      <th>image_name</th>\n",
       "      <th>similarity</th>\n",
       "    </tr>\n",
       "  </thead>\n",
       "  <tbody>\n",
       "    <tr>\n",
       "      <th>0</th>\n",
       "      <td>D082010</td>\n",
       "      <td>소갈비구이</td>\n",
       "      <td>56920</td>\n",
       "      <td>소갈비구이</td>\n",
       "      <td>구이</td>\n",
       "      <td>갈비구이</td>\n",
       "      <td>[D072007, D072006, D072010, D082023, D072011]</td>\n",
       "    </tr>\n",
       "    <tr>\n",
       "      <th>1</th>\n",
       "      <td>D081003</td>\n",
       "      <td>갈치구이</td>\n",
       "      <td>0</td>\n",
       "      <td></td>\n",
       "      <td>구이</td>\n",
       "      <td>갈치구이</td>\n",
       "      <td>[D121002, D071003, D061002, D111002, D061062]</td>\n",
       "    </tr>\n",
       "  </tbody>\n",
       "</table>\n",
       "</div>"
      ],
      "text/plain": [
       "      code   name kfood_code kfood_name image_type image_name  \\\n",
       "0  D082010  소갈비구이      56920      소갈비구이         구이       갈비구이   \n",
       "1  D081003   갈치구이          0                    구이       갈치구이   \n",
       "\n",
       "                                      similarity  \n",
       "0  [D072007, D072006, D072010, D082023, D072011]  \n",
       "1  [D121002, D071003, D061002, D111002, D061062]  "
      ]
     },
     "execution_count": 6,
     "metadata": {},
     "output_type": "execute_result"
    }
   ],
   "source": [
    "df = pd.DataFrame(map)\n",
    "df.head(2)"
   ]
  },
  {
   "cell_type": "code",
   "execution_count": 11,
   "id": "e3746bde",
   "metadata": {},
   "outputs": [
    {
     "data": {
      "text/plain": [
       "['D132101', 'D132011', 'D132081', 'D132077', 'D292004']"
      ]
     },
     "execution_count": 11,
     "metadata": {},
     "output_type": "execute_result"
    }
   ],
   "source": [
    "name = '무생채'\n",
    "similarity = df[df.kfood_name == name].similarity.values.tolist()[0]\n",
    "similarity"
   ]
  },
  {
   "cell_type": "code",
   "execution_count": 16,
   "id": "d627d3b8",
   "metadata": {},
   "outputs": [
    {
     "data": {
      "text/html": [
       "<div>\n",
       "<style scoped>\n",
       "    .dataframe tbody tr th:only-of-type {\n",
       "        vertical-align: middle;\n",
       "    }\n",
       "\n",
       "    .dataframe tbody tr th {\n",
       "        vertical-align: top;\n",
       "    }\n",
       "\n",
       "    .dataframe thead th {\n",
       "        text-align: right;\n",
       "    }\n",
       "</style>\n",
       "<table border=\"1\" class=\"dataframe\">\n",
       "  <thead>\n",
       "    <tr style=\"text-align: right;\">\n",
       "      <th></th>\n",
       "      <th>code</th>\n",
       "      <th>name</th>\n",
       "      <th>kfood_code</th>\n",
       "      <th>kfood_name</th>\n",
       "      <th>image_type</th>\n",
       "      <th>image_name</th>\n",
       "      <th>similarity</th>\n",
       "    </tr>\n",
       "  </thead>\n",
       "  <tbody>\n",
       "  </tbody>\n",
       "</table>\n",
       "</div>"
      ],
      "text/plain": [
       "Empty DataFrame\n",
       "Columns: [code, name, kfood_code, kfood_name, image_type, image_name, similarity]\n",
       "Index: []"
      ]
     },
     "execution_count": 16,
     "metadata": {},
     "output_type": "execute_result"
    }
   ],
   "source": [
    "df[df.code == similarity[4]]"
   ]
  },
  {
   "cell_type": "code",
   "execution_count": null,
   "id": "137066dd",
   "metadata": {},
   "outputs": [],
   "source": []
  }
 ],
 "metadata": {
  "kernelspec": {
   "display_name": "kfood_project",
   "language": "python",
   "name": "python3"
  },
  "language_info": {
   "codemirror_mode": {
    "name": "ipython",
    "version": 3
   },
   "file_extension": ".py",
   "mimetype": "text/x-python",
   "name": "python",
   "nbconvert_exporter": "python",
   "pygments_lexer": "ipython3",
   "version": "3.11.13"
  }
 },
 "nbformat": 4,
 "nbformat_minor": 5
}
